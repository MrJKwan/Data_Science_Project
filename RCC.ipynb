{
  "nbformat": 4,
  "nbformat_minor": 0,
  "metadata": {
    "colab": {
      "name": "RCC",
      "provenance": [],
      "collapsed_sections": [
        "ZF11ZfiGKNHr",
        "HloAeLAUKb7y",
        "IABTm0iKKevS",
        "OFm5h6_IKkN6",
        "h5-oM2LmKmeC",
        "1iaGJalWK3Q6",
        "HvnDwaB7K7UC",
        "WzEvuBwiLKDS",
        "3RktgK4zLbe7",
        "UpGUp3WxLf6Y",
        "BjLZFnFpLhYD",
        "GH6vcYQLLmWq",
        "9YgvTPx1MJsD",
        "k-dcifO-MMeT",
        "kDq8PpPvMaLm",
        "BAzYmzzoMgtr",
        "HBDhnd1lL2nr",
        "KukaJpUBM6Pj"
      ]
    },
    "kernelspec": {
      "name": "python3",
      "display_name": "Python 3"
    },
    "language_info": {
      "name": "python"
    },
    "accelerator": "GPU"
  },
  "cells": [
    {
      "cell_type": "markdown",
      "source": [
        "### ***Paso 3.1 (Conexión Drive)***"
      ],
      "metadata": {
        "id": "ZF11ZfiGKNHr"
      }
    },
    {
      "cell_type": "code",
      "source": [
        "from google.colab import drive\n",
        "drive.mount('/content/drive')"
      ],
      "metadata": {
        "colab": {
          "base_uri": "https://localhost:8080/"
        },
        "id": "hisMYSpwO4-T",
        "outputId": "2925bf6c-1583-4836-d5b7-66a5e81651a9"
      },
      "execution_count": null,
      "outputs": [
        {
          "output_type": "stream",
          "name": "stdout",
          "text": [
            "Mounted at /content/drive\n"
          ]
        }
      ]
    },
    {
      "cell_type": "markdown",
      "source": [
        "### ***Paso 3.2 (Crear carpeta dataset)***"
      ],
      "metadata": {
        "id": "HloAeLAUKb7y"
      }
    },
    {
      "cell_type": "code",
      "source": [
        "!mkdir dataset"
      ],
      "metadata": {
        "id": "Aazbas6uUmqZ"
      },
      "execution_count": null,
      "outputs": []
    },
    {
      "cell_type": "markdown",
      "source": [
        "### ***Paso 3.3 (Crear carpetas de categorias)***"
      ],
      "metadata": {
        "id": "IABTm0iKKevS"
      }
    },
    {
      "cell_type": "code",
      "metadata": {
        "id": "IkfUii9l45Ex"
      },
      "source": [
        "!mkdir dataset/aceptable\n",
        "!mkdir dataset/marchita_dia_1-4\n",
        "!mkdir dataset/marchita_hace_mucho"
      ],
      "execution_count": null,
      "outputs": []
    },
    {
      "cell_type": "markdown",
      "source": [
        "### ***Paso 3.4 (Importar os y shutil)***"
      ],
      "metadata": {
        "id": "OFm5h6_IKkN6"
      }
    },
    {
      "cell_type": "code",
      "source": [
        "import os\n",
        "import shutil"
      ],
      "metadata": {
        "id": "zQ1dz1TsSpSv"
      },
      "execution_count": null,
      "outputs": []
    },
    {
      "cell_type": "markdown",
      "source": [
        "### ***Paso 3.5 (Pasar archivos de Drive a Colab)***"
      ],
      "metadata": {
        "id": "h5-oM2LmKmeC"
      }
    },
    {
      "cell_type": "code",
      "metadata": {
        "id": "box5_qnJ7l5q"
      },
      "source": [
        "carpeta_fuente = '/content/drive/MyDrive/datasetmater/dataset_rrc/aceptable'\n",
        "carpeta_destino = '/content/dataset/aceptable'\n",
        "\n",
        "imagenes = os.listdir(carpeta_fuente)\n",
        "for i, nombreimg in enumerate(imagenes):\n",
        "   shutil.copy(carpeta_fuente + '/' + nombreimg, carpeta_destino + '/' + nombreimg)"
      ],
      "execution_count": null,
      "outputs": []
    },
    {
      "cell_type": "code",
      "source": [
        "carpeta_fuente = '/content/drive/MyDrive/datasetmater/dataset_rrc/marchita_dia_1-4'\n",
        "carpeta_destino = '/content/dataset/marchita_dia_1-4'\n",
        "\n",
        "imagenes = os.listdir(carpeta_fuente)\n",
        "for i, nombreimg in enumerate(imagenes):\n",
        "    shutil.copy(carpeta_fuente + '/' + nombreimg, carpeta_destino + '/' + nombreimg)"
      ],
      "metadata": {
        "id": "YOhxrHPGSQhW"
      },
      "execution_count": null,
      "outputs": []
    },
    {
      "cell_type": "code",
      "source": [
        "carpeta_fuente = '/content/drive/MyDrive/datasetmater/dataset_rrc/marchita_hace_mucho'\n",
        "carpeta_destino = '/content/dataset/marchita_hace_mucho'\n",
        "\n",
        "imagenes = os.listdir(carpeta_fuente)\n",
        "for i, nombreimg in enumerate(imagenes):\n",
        "    shutil.copy(carpeta_fuente + '/' + nombreimg, carpeta_destino + '/' + nombreimg)"
      ],
      "metadata": {
        "id": "S4SGeOZpTnc_"
      },
      "execution_count": null,
      "outputs": []
    },
    {
      "cell_type": "markdown",
      "source": [
        "### ***Paso 3.6 (Mostrar cantidad de imagenes por cada categoria)***"
      ],
      "metadata": {
        "id": "1iaGJalWK3Q6"
      }
    },
    {
      "cell_type": "code",
      "source": [
        "!ls /content/dataset/aceptable | wc -l"
      ],
      "metadata": {
        "id": "Okxk7TuvilK1",
        "colab": {
          "base_uri": "https://localhost:8080/"
        },
        "outputId": "e64c9985-9298-4263-f223-cc4b84a2c93d"
      },
      "execution_count": null,
      "outputs": [
        {
          "output_type": "stream",
          "name": "stdout",
          "text": [
            "1485\n"
          ]
        }
      ]
    },
    {
      "cell_type": "code",
      "source": [
        "!ls /content/dataset/marchita_dia_1-4 | wc -l"
      ],
      "metadata": {
        "colab": {
          "base_uri": "https://localhost:8080/"
        },
        "id": "RLJrDCgyApxS",
        "outputId": "e5091009-da4f-4e0c-b782-c62bc71efc83"
      },
      "execution_count": null,
      "outputs": [
        {
          "output_type": "stream",
          "name": "stdout",
          "text": [
            "1485\n"
          ]
        }
      ]
    },
    {
      "cell_type": "code",
      "source": [
        "!ls /content/dataset/marchita_hace_mucho | wc -l"
      ],
      "metadata": {
        "colab": {
          "base_uri": "https://localhost:8080/"
        },
        "id": "tYbx96uwWrmR",
        "outputId": "ccd5c926-f6fb-4829-8527-ffa544f61511"
      },
      "execution_count": null,
      "outputs": [
        {
          "output_type": "stream",
          "name": "stdout",
          "text": [
            "495\n"
          ]
        }
      ]
    },
    {
      "cell_type": "markdown",
      "source": [
        "### ***Paso 3.7 (Importar tensorflow.keras, numpy y matplotlib)***"
      ],
      "metadata": {
        "id": "HvnDwaB7K7UC"
      }
    },
    {
      "cell_type": "code",
      "source": [
        "from tensorflow.keras.preprocessing.image import ImageDataGenerator\n",
        "import numpy as np\n",
        "import matplotlib.pyplot as plt"
      ],
      "metadata": {
        "id": "lheYQ9HXLFGc"
      },
      "execution_count": null,
      "outputs": []
    },
    {
      "cell_type": "markdown",
      "source": [
        "### ***Paso 3.8 (Crear generador del dataset y probar con imagenes aleatorias)***"
      ],
      "metadata": {
        "id": "WzEvuBwiLKDS"
      }
    },
    {
      "cell_type": "code",
      "source": [
        "#Paso 3.8.1\n",
        "datagen = ImageDataGenerator(\n",
        "    rescale=1. / 255,\n",
        "    validation_split=0.2\n",
        ")\n",
        "\n",
        "#Paso 3.8.2\n",
        "data_gen_entrenamiento = datagen.flow_from_directory('/content/dataset', target_size=(224,224),batch_size=32, shuffle=True, subset='training')\n",
        "data_gen_pruebas = datagen.flow_from_directory('/content/dataset', target_size=(224,224),batch_size=32, shuffle=True, subset='validation')\n",
        "\n",
        "#Paso 3.8.3\n",
        "for imagen, etiqueta in data_gen_entrenamiento:\n",
        "  for i in range(10):\n",
        "    plt.subplot(2,5,i+1)\n",
        "    plt.xticks([])\n",
        "    plt.yticks([])\n",
        "    plt.imshow(imagen[i])\n",
        "  break\n",
        "plt.show()"
      ],
      "metadata": {
        "colab": {
          "base_uri": "https://localhost:8080/",
          "height": 246
        },
        "id": "fREhbyu5JNGp",
        "outputId": "2ffb088b-c0a3-42ae-9aef-a1d328340b7b"
      },
      "execution_count": null,
      "outputs": [
        {
          "output_type": "stream",
          "name": "stdout",
          "text": [
            "Found 2772 images belonging to 3 classes.\n",
            "Found 693 images belonging to 3 classes.\n"
          ]
        },
        {
          "output_type": "display_data",
          "data": {
            "image/png": "[encoded data removed]",
            "text/plain": [
              "<Figure size 432x288 with 10 Axes>"
            ]
          },
          "metadata": {}
        }
      ]
    },
    {
      "cell_type": "markdown",
      "source": [
        "### ***Paso 3.9 (importar tensorflow, tensorflow_hub y el modelo preentrenado)***"
      ],
      "metadata": {
        "id": "3RktgK4zLbe7"
      }
    },
    {
      "cell_type": "code",
      "metadata": {
        "id": "9-XXSY6Z_1YW"
      },
      "source": [
        "import tensorflow as tf\n",
        "import tensorflow_hub as hub\n",
        "\n",
        "url = \"https://tfhub.dev/google/tf2-preview/mobilenet_v2/feature_vector/4\"\n",
        "mobilenetv2 = hub.KerasLayer(url, input_shape=(224,224,3))"
      ],
      "execution_count": null,
      "outputs": []
    },
    {
      "cell_type": "markdown",
      "source": [
        "### ***Paso 3.10 (Congelar modelo preentrenado)***"
      ],
      "metadata": {
        "id": "UpGUp3WxLf6Y"
      }
    },
    {
      "cell_type": "code",
      "metadata": {
        "id": "Dvv6GVPpATt8"
      },
      "source": [
        "mobilenetv2.trainable = False"
      ],
      "execution_count": null,
      "outputs": []
    },
    {
      "cell_type": "markdown",
      "source": [
        "### ***Paso 3.11 (Definir modelo y asignar cantidad de categorias)***"
      ],
      "metadata": {
        "id": "BjLZFnFpLhYD"
      }
    },
    {
      "cell_type": "code",
      "source": [
        ""
      ],
      "metadata": {
        "id": "lIZ410RshE1w"
      },
      "execution_count": null,
      "outputs": []
    },
    {
      "cell_type": "code",
      "metadata": {
        "id": "PmDIA3FKAXpz"
      },
      "source": [
        "modelo = tf.keras.Sequential([\n",
        "    mobilenetv2,\n",
        "    tf.keras.layers.Dense(3, activation='softmax')\n",
        "])"
      ],
      "execution_count": null,
      "outputs": []
    },
    {
      "cell_type": "markdown",
      "source": [
        "### ***Paso 3.12 (Saber con cuantos  parametros se hara el entrenamiento)***"
      ],
      "metadata": {
        "id": "GH6vcYQLLmWq"
      }
    },
    {
      "cell_type": "code",
      "metadata": {
        "colab": {
          "base_uri": "https://localhost:8080/"
        },
        "id": "_RNaQGnWAjpQ",
        "outputId": "4dc453ef-7162-4b9a-e7f9-097e2bb33af8"
      },
      "source": [
        "modelo.summary()"
      ],
      "execution_count": null,
      "outputs": [
        {
          "output_type": "stream",
          "name": "stdout",
          "text": [
            "Model: \"sequential\"\n",
            "_________________________________________________________________\n",
            " Layer (type)                Output Shape              Param #   \n",
            "=================================================================\n",
            " keras_layer (KerasLayer)    (None, 1280)              2257984   \n",
            "                                                                 \n",
            " dense (Dense)               (None, 3)                 3843      \n",
            "                                                                 \n",
            "=================================================================\n",
            "Total params: 2,261,827\n",
            "Trainable params: 3,843\n",
            "Non-trainable params: 2,257,984\n",
            "_________________________________________________________________\n"
          ]
        }
      ]
    },
    {
      "cell_type": "markdown",
      "source": [
        "### ***Paso 3.13 (Compilar modelo)***"
      ],
      "metadata": {
        "id": "9YgvTPx1MJsD"
      }
    },
    {
      "cell_type": "code",
      "metadata": {
        "id": "7UfMugXKApYe"
      },
      "source": [
        "modelo.compile(\n",
        "    optimizer='adam',\n",
        "    loss='categorical_crossentropy',\n",
        "    metrics=['accuracy']\n",
        ")"
      ],
      "execution_count": null,
      "outputs": []
    },
    {
      "cell_type": "markdown",
      "source": [
        "### ***Paso 3.14 (Entrenamiento)***"
      ],
      "metadata": {
        "id": "k-dcifO-MMeT"
      }
    },
    {
      "cell_type": "code",
      "metadata": {
        "colab": {
          "base_uri": "https://localhost:8080/"
        },
        "id": "vvIFkP-7Axnp",
        "outputId": "baeda5fd-1b5c-43e1-c359-bb6a98f38658"
      },
      "source": [
        "EPOCAS = 60\n",
        "\n",
        "historial = modelo.fit(\n",
        "    data_gen_entrenamiento, epochs=EPOCAS, batch_size=32,\n",
        "    validation_data=data_gen_pruebas\n",
        ")"
      ],
      "execution_count": null,
      "outputs": [
        {
          "output_type": "stream",
          "name": "stdout",
          "text": [
            "Epoch 1/60\n",
            "87/87 [==============================] - 33s 382ms/step - loss: 3.9826e-04 - accuracy: 1.0000 - val_loss: 1.2902 - val_accuracy: 0.7994\n",
            "Epoch 2/60\n",
            "87/87 [==============================] - 33s 381ms/step - loss: 3.9846e-04 - accuracy: 1.0000 - val_loss: 1.1705 - val_accuracy: 0.8153\n",
            "Epoch 3/60\n",
            "87/87 [==============================] - 33s 379ms/step - loss: 3.6505e-04 - accuracy: 1.0000 - val_loss: 1.3258 - val_accuracy: 0.7980\n",
            "Epoch 4/60\n",
            "87/87 [==============================] - 33s 381ms/step - loss: 3.6881e-04 - accuracy: 1.0000 - val_loss: 1.2118 - val_accuracy: 0.8139\n",
            "Epoch 5/60\n",
            "87/87 [==============================] - 33s 382ms/step - loss: 3.4027e-04 - accuracy: 1.0000 - val_loss: 1.2669 - val_accuracy: 0.8110\n",
            "Epoch 6/60\n",
            "87/87 [==============================] - 33s 379ms/step - loss: 3.2364e-04 - accuracy: 1.0000 - val_loss: 1.2776 - val_accuracy: 0.8110\n",
            "Epoch 7/60\n",
            "87/87 [==============================] - 33s 378ms/step - loss: 3.1093e-04 - accuracy: 1.0000 - val_loss: 1.2490 - val_accuracy: 0.8139\n",
            "Epoch 8/60\n",
            "87/87 [==============================] - 33s 381ms/step - loss: 2.9505e-04 - accuracy: 1.0000 - val_loss: 1.2500 - val_accuracy: 0.8153\n",
            "Epoch 9/60\n",
            "87/87 [==============================] - 33s 379ms/step - loss: 2.8379e-04 - accuracy: 1.0000 - val_loss: 1.2156 - val_accuracy: 0.8153\n",
            "Epoch 10/60\n",
            "87/87 [==============================] - 33s 378ms/step - loss: 2.6915e-04 - accuracy: 1.0000 - val_loss: 1.2004 - val_accuracy: 0.8182\n",
            "Epoch 11/60\n",
            "87/87 [==============================] - 33s 379ms/step - loss: 2.6288e-04 - accuracy: 1.0000 - val_loss: 1.2842 - val_accuracy: 0.8124\n",
            "Epoch 12/60\n",
            "87/87 [==============================] - 33s 380ms/step - loss: 2.5062e-04 - accuracy: 1.0000 - val_loss: 1.3362 - val_accuracy: 0.8095\n",
            "Epoch 13/60\n",
            "87/87 [==============================] - 33s 379ms/step - loss: 2.4140e-04 - accuracy: 1.0000 - val_loss: 1.3314 - val_accuracy: 0.8110\n",
            "Epoch 14/60\n",
            "87/87 [==============================] - 33s 381ms/step - loss: 2.2954e-04 - accuracy: 1.0000 - val_loss: 1.2992 - val_accuracy: 0.8124\n",
            "Epoch 15/60\n",
            "87/87 [==============================] - 33s 381ms/step - loss: 2.2370e-04 - accuracy: 1.0000 - val_loss: 1.3563 - val_accuracy: 0.8081\n",
            "Epoch 16/60\n",
            "87/87 [==============================] - 33s 381ms/step - loss: 2.2092e-04 - accuracy: 1.0000 - val_loss: 1.3343 - val_accuracy: 0.8139\n",
            "Epoch 17/60\n",
            "87/87 [==============================] - 33s 381ms/step - loss: 2.0586e-04 - accuracy: 1.0000 - val_loss: 1.2695 - val_accuracy: 0.8167\n",
            "Epoch 18/60\n",
            "87/87 [==============================] - 33s 385ms/step - loss: 1.9450e-04 - accuracy: 1.0000 - val_loss: 1.3748 - val_accuracy: 0.8095\n",
            "Epoch 19/60\n",
            "87/87 [==============================] - 34s 386ms/step - loss: 1.8301e-04 - accuracy: 1.0000 - val_loss: 1.3168 - val_accuracy: 0.8139\n",
            "Epoch 20/60\n",
            "87/87 [==============================] - 32s 367ms/step - loss: 1.7942e-04 - accuracy: 1.0000 - val_loss: 1.4045 - val_accuracy: 0.8038\n",
            "Epoch 21/60\n",
            "87/87 [==============================] - 32s 366ms/step - loss: 1.7029e-04 - accuracy: 1.0000 - val_loss: 1.2639 - val_accuracy: 0.8167\n",
            "Epoch 22/60\n",
            "87/87 [==============================] - 34s 388ms/step - loss: 1.7468e-04 - accuracy: 1.0000 - val_loss: 1.3484 - val_accuracy: 0.8139\n",
            "Epoch 23/60\n",
            "87/87 [==============================] - 34s 386ms/step - loss: 1.6190e-04 - accuracy: 1.0000 - val_loss: 1.3143 - val_accuracy: 0.8167\n",
            "Epoch 24/60\n",
            "87/87 [==============================] - 34s 386ms/step - loss: 1.4795e-04 - accuracy: 1.0000 - val_loss: 1.3518 - val_accuracy: 0.8139\n",
            "Epoch 25/60\n",
            "87/87 [==============================] - 34s 394ms/step - loss: 1.4365e-04 - accuracy: 1.0000 - val_loss: 1.4228 - val_accuracy: 0.8095\n",
            "Epoch 26/60\n",
            "87/87 [==============================] - 35s 406ms/step - loss: 1.3925e-04 - accuracy: 1.0000 - val_loss: 1.3487 - val_accuracy: 0.8139\n",
            "Epoch 27/60\n",
            "87/87 [==============================] - 33s 385ms/step - loss: 1.3347e-04 - accuracy: 1.0000 - val_loss: 1.4183 - val_accuracy: 0.8139\n",
            "Epoch 28/60\n",
            "87/87 [==============================] - 34s 392ms/step - loss: 1.2658e-04 - accuracy: 1.0000 - val_loss: 1.3723 - val_accuracy: 0.8139\n",
            "Epoch 29/60\n",
            "87/87 [==============================] - 33s 384ms/step - loss: 1.2388e-04 - accuracy: 1.0000 - val_loss: 1.4050 - val_accuracy: 0.8139\n",
            "Epoch 30/60\n",
            "87/87 [==============================] - 34s 385ms/step - loss: 1.2181e-04 - accuracy: 1.0000 - val_loss: 1.4718 - val_accuracy: 0.8009\n",
            "Epoch 31/60\n",
            "87/87 [==============================] - 34s 387ms/step - loss: 1.1360e-04 - accuracy: 1.0000 - val_loss: 1.3745 - val_accuracy: 0.8153\n",
            "Epoch 32/60\n",
            "87/87 [==============================] - 34s 388ms/step - loss: 1.0938e-04 - accuracy: 1.0000 - val_loss: 1.3744 - val_accuracy: 0.8153\n",
            "Epoch 33/60\n",
            "87/87 [==============================] - 35s 407ms/step - loss: 1.0170e-04 - accuracy: 1.0000 - val_loss: 1.4150 - val_accuracy: 0.8139\n",
            "Epoch 34/60\n",
            "87/87 [==============================] - 34s 385ms/step - loss: 1.0126e-04 - accuracy: 1.0000 - val_loss: 1.3625 - val_accuracy: 0.8153\n",
            "Epoch 35/60\n",
            "87/87 [==============================] - 34s 390ms/step - loss: 9.5709e-05 - accuracy: 1.0000 - val_loss: 1.4640 - val_accuracy: 0.8139\n",
            "Epoch 36/60\n",
            "87/87 [==============================] - 34s 393ms/step - loss: 9.6422e-05 - accuracy: 1.0000 - val_loss: 1.4009 - val_accuracy: 0.8153\n",
            "Epoch 37/60\n",
            "87/87 [==============================] - 34s 394ms/step - loss: 9.5839e-05 - accuracy: 1.0000 - val_loss: 1.3817 - val_accuracy: 0.8167\n",
            "Epoch 38/60\n",
            "87/87 [==============================] - 34s 385ms/step - loss: 9.0906e-05 - accuracy: 1.0000 - val_loss: 1.3836 - val_accuracy: 0.8182\n",
            "Epoch 39/60\n",
            "87/87 [==============================] - 33s 385ms/step - loss: 7.9812e-05 - accuracy: 1.0000 - val_loss: 1.4524 - val_accuracy: 0.8139\n",
            "Epoch 40/60\n",
            "87/87 [==============================] - 35s 399ms/step - loss: 7.7942e-05 - accuracy: 1.0000 - val_loss: 1.4737 - val_accuracy: 0.8153\n",
            "Epoch 41/60\n",
            "87/87 [==============================] - 34s 388ms/step - loss: 7.1214e-05 - accuracy: 1.0000 - val_loss: 1.3451 - val_accuracy: 0.8196\n",
            "Epoch 42/60\n",
            "87/87 [==============================] - 34s 388ms/step - loss: 7.5114e-05 - accuracy: 1.0000 - val_loss: 1.4724 - val_accuracy: 0.8139\n",
            "Epoch 43/60\n",
            "87/87 [==============================] - 33s 383ms/step - loss: 6.8043e-05 - accuracy: 1.0000 - val_loss: 1.4577 - val_accuracy: 0.8139\n",
            "Epoch 44/60\n",
            "87/87 [==============================] - 35s 395ms/step - loss: 6.3487e-05 - accuracy: 1.0000 - val_loss: 1.6456 - val_accuracy: 0.7922\n",
            "Epoch 45/60\n",
            "87/87 [==============================] - 34s 393ms/step - loss: 6.3884e-05 - accuracy: 1.0000 - val_loss: 1.5428 - val_accuracy: 0.8124\n",
            "Epoch 46/60\n",
            "87/87 [==============================] - 34s 388ms/step - loss: 5.9379e-05 - accuracy: 1.0000 - val_loss: 1.4831 - val_accuracy: 0.8139\n",
            "Epoch 47/60\n",
            "87/87 [==============================] - 34s 387ms/step - loss: 6.2925e-05 - accuracy: 1.0000 - val_loss: 1.5665 - val_accuracy: 0.8110\n",
            "Epoch 48/60\n",
            "87/87 [==============================] - 34s 388ms/step - loss: 5.4803e-05 - accuracy: 1.0000 - val_loss: 1.5473 - val_accuracy: 0.8153\n",
            "Epoch 49/60\n",
            "87/87 [==============================] - 34s 388ms/step - loss: 5.2758e-05 - accuracy: 1.0000 - val_loss: 1.4951 - val_accuracy: 0.8139\n",
            "Epoch 50/60\n",
            "87/87 [==============================] - 34s 386ms/step - loss: 5.3950e-05 - accuracy: 1.0000 - val_loss: 1.4453 - val_accuracy: 0.8182\n",
            "Epoch 51/60\n",
            "87/87 [==============================] - 34s 385ms/step - loss: 4.9022e-05 - accuracy: 1.0000 - val_loss: 1.6226 - val_accuracy: 0.8038\n",
            "Epoch 52/60\n",
            "87/87 [==============================] - 33s 384ms/step - loss: 4.8658e-05 - accuracy: 1.0000 - val_loss: 1.5395 - val_accuracy: 0.8139\n",
            "Epoch 53/60\n",
            "87/87 [==============================] - 33s 385ms/step - loss: 4.3517e-05 - accuracy: 1.0000 - val_loss: 1.5302 - val_accuracy: 0.8139\n",
            "Epoch 54/60\n",
            "87/87 [==============================] - 33s 385ms/step - loss: 4.3076e-05 - accuracy: 1.0000 - val_loss: 1.6190 - val_accuracy: 0.8066\n",
            "Epoch 55/60\n",
            "87/87 [==============================] - 33s 384ms/step - loss: 4.1047e-05 - accuracy: 1.0000 - val_loss: 1.5456 - val_accuracy: 0.8139\n",
            "Epoch 56/60\n",
            "87/87 [==============================] - 33s 382ms/step - loss: 3.9660e-05 - accuracy: 1.0000 - val_loss: 1.5668 - val_accuracy: 0.8139\n",
            "Epoch 57/60\n",
            "87/87 [==============================] - 34s 385ms/step - loss: 4.1041e-05 - accuracy: 1.0000 - val_loss: 1.5650 - val_accuracy: 0.8139\n",
            "Epoch 58/60\n",
            "87/87 [==============================] - 34s 386ms/step - loss: 3.6791e-05 - accuracy: 1.0000 - val_loss: 1.6128 - val_accuracy: 0.8153\n",
            "Epoch 59/60\n",
            "87/87 [==============================] - 34s 385ms/step - loss: 3.6003e-05 - accuracy: 1.0000 - val_loss: 1.5874 - val_accuracy: 0.8139\n",
            "Epoch 60/60\n",
            "87/87 [==============================] - 33s 386ms/step - loss: 3.3788e-05 - accuracy: 1.0000 - val_loss: 1.6176 - val_accuracy: 0.8139\n"
          ]
        }
      ]
    },
    {
      "cell_type": "code",
      "source": [
        "#Entrenar el modelo\n",
        "EPOCAS = 20\n",
        "\n",
        "historial = modelo.fit(\n",
        "    data_gen_entrenamiento, epochs=EPOCAS, batch_size=32,\n",
        "    validation_data=data_gen_pruebas\n",
        ")"
      ],
      "metadata": {
        "colab": {
          "base_uri": "https://localhost:8080/"
        },
        "id": "f-jmoML9W3Zn",
        "outputId": "0509d02c-2a36-4473-a722-3dda3b44e50d"
      },
      "execution_count": null,
      "outputs": [
        {
          "output_type": "stream",
          "name": "stdout",
          "text": [
            "Epoch 1/20\n",
            "87/87 [==============================] - 107s 1s/step - loss: 0.0171 - accuracy: 0.9996 - val_loss: 0.5510 - val_accuracy: 0.8427\n",
            "Epoch 2/20\n",
            "87/87 [==============================] - 106s 1s/step - loss: 0.0158 - accuracy: 0.9996 - val_loss: 0.6709 - val_accuracy: 0.8182\n",
            "Epoch 3/20\n",
            "87/87 [==============================] - 107s 1s/step - loss: 0.0135 - accuracy: 0.9996 - val_loss: 0.6819 - val_accuracy: 0.8211\n",
            "Epoch 4/20\n",
            "87/87 [==============================] - 106s 1s/step - loss: 0.0123 - accuracy: 0.9996 - val_loss: 0.6174 - val_accuracy: 0.8355\n",
            "Epoch 5/20\n",
            "87/87 [==============================] - 107s 1s/step - loss: 0.0111 - accuracy: 0.9996 - val_loss: 0.7940 - val_accuracy: 0.7980\n",
            "Epoch 6/20\n",
            "87/87 [==============================] - 106s 1s/step - loss: 0.0104 - accuracy: 1.0000 - val_loss: 0.6685 - val_accuracy: 0.8312\n",
            "Epoch 7/20\n",
            "87/87 [==============================] - 107s 1s/step - loss: 0.0093 - accuracy: 1.0000 - val_loss: 0.6344 - val_accuracy: 0.8341\n",
            "Epoch 8/20\n",
            "87/87 [==============================] - 107s 1s/step - loss: 0.0084 - accuracy: 1.0000 - val_loss: 0.8339 - val_accuracy: 0.7951\n",
            "Epoch 9/20\n",
            "87/87 [==============================] - 106s 1s/step - loss: 0.0079 - accuracy: 1.0000 - val_loss: 0.8249 - val_accuracy: 0.8009\n",
            "Epoch 10/20\n",
            "87/87 [==============================] - 126s 1s/step - loss: 0.0073 - accuracy: 1.0000 - val_loss: 0.7396 - val_accuracy: 0.8240\n",
            "Epoch 11/20\n",
            "87/87 [==============================] - 105s 1s/step - loss: 0.0069 - accuracy: 0.9996 - val_loss: 0.7967 - val_accuracy: 0.8139\n",
            "Epoch 12/20\n",
            "87/87 [==============================] - 100s 1s/step - loss: 0.0064 - accuracy: 1.0000 - val_loss: 0.8075 - val_accuracy: 0.8167\n",
            "Epoch 13/20\n",
            "87/87 [==============================] - 99s 1s/step - loss: 0.0060 - accuracy: 1.0000 - val_loss: 0.8306 - val_accuracy: 0.8095\n",
            "Epoch 14/20\n",
            "87/87 [==============================] - 97s 1s/step - loss: 0.0055 - accuracy: 1.0000 - val_loss: 0.7601 - val_accuracy: 0.8240\n",
            "Epoch 15/20\n",
            "87/87 [==============================] - 99s 1s/step - loss: 0.0052 - accuracy: 1.0000 - val_loss: 0.9326 - val_accuracy: 0.7951\n",
            "Epoch 16/20\n",
            "87/87 [==============================] - 99s 1s/step - loss: 0.0048 - accuracy: 1.0000 - val_loss: 0.8050 - val_accuracy: 0.8196\n",
            "Epoch 17/20\n",
            "87/87 [==============================] - 100s 1s/step - loss: 0.0043 - accuracy: 1.0000 - val_loss: 0.7850 - val_accuracy: 0.8240\n",
            "Epoch 18/20\n",
            "87/87 [==============================] - 100s 1s/step - loss: 0.0041 - accuracy: 1.0000 - val_loss: 0.7846 - val_accuracy: 0.8254\n",
            "Epoch 19/20\n",
            "87/87 [==============================] - 98s 1s/step - loss: 0.0038 - accuracy: 1.0000 - val_loss: 0.8463 - val_accuracy: 0.8196\n",
            "Epoch 20/20\n",
            "87/87 [==============================] - 99s 1s/step - loss: 0.0039 - accuracy: 1.0000 - val_loss: 0.8941 - val_accuracy: 0.8095\n"
          ]
        }
      ]
    },
    {
      "cell_type": "code",
      "source": [
        "#Entrenar el modelo\n",
        "EPOCAS = 5\n",
        "\n",
        "historial = modelo.fit(\n",
        "    data_gen_entrenamiento, epochs=EPOCAS, batch_size=32,\n",
        "    validation_data=data_gen_pruebas\n",
        ")"
      ],
      "metadata": {
        "colab": {
          "base_uri": "https://localhost:8080/"
        },
        "id": "pSFIsFZObwLY",
        "outputId": "108c0dff-e057-439f-a86f-b3e270bc46a2"
      },
      "execution_count": null,
      "outputs": [
        {
          "output_type": "stream",
          "name": "stdout",
          "text": [
            "Epoch 1/5\n",
            "87/87 [==============================] - 107s 1s/step - loss: 0.0034 - accuracy: 1.0000 - val_loss: 0.7744 - val_accuracy: 0.8297\n",
            "Epoch 2/5\n",
            "87/87 [==============================] - 127s 1s/step - loss: 0.0032 - accuracy: 1.0000 - val_loss: 0.8391 - val_accuracy: 0.8225\n",
            "Epoch 3/5\n",
            "87/87 [==============================] - 106s 1s/step - loss: 0.0031 - accuracy: 1.0000 - val_loss: 0.8355 - val_accuracy: 0.8225\n",
            "Epoch 4/5\n",
            "87/87 [==============================] - 105s 1s/step - loss: 0.0029 - accuracy: 1.0000 - val_loss: 0.8574 - val_accuracy: 0.8211\n",
            "Epoch 5/5\n",
            "87/87 [==============================] - 104s 1s/step - loss: 0.0028 - accuracy: 1.0000 - val_loss: 0.8686 - val_accuracy: 0.8211\n"
          ]
        }
      ]
    },
    {
      "cell_type": "markdown",
      "source": [
        "### ***Paso 3.15 (Graficas de entrenamiento)***"
      ],
      "metadata": {
        "id": "kDq8PpPvMaLm"
      }
    },
    {
      "cell_type": "code",
      "metadata": {
        "colab": {
          "base_uri": "https://localhost:8080/",
          "height": 499
        },
        "id": "WhM0WbPAFVLZ",
        "outputId": "a5a3b3a6-02a6-4d13-e616-843be20d9f87"
      },
      "source": [
        "#Graficar la presición\n",
        "acc = historial.history['accuracy']\n",
        "val_acc = historial.history['val_accuracy']\n",
        "\n",
        "loss = historial.history['loss']\n",
        "val_loss = historial.history['val_loss']\n",
        "\n",
        "rango_epocas = range(5)\n",
        "\n",
        "plt.figure(figsize=(8,8))\n",
        "plt.subplot(1,2,1)\n",
        "plt.plot(rango_epocas, acc, label='Precisión Entrenamiento')\n",
        "plt.plot(rango_epocas, val_acc, label='Precisión Pruebas')\n",
        "plt.legend(loc='lower right')\n",
        "plt.title('Precisión de entrenamiento y pruebas')\n",
        "\n",
        "plt.subplot(1,2,2)\n",
        "plt.plot(rango_epocas, loss, label='Pérdida de entrenamiento')\n",
        "plt.plot(rango_epocas, val_loss, label='Pérdida de pruebas')\n",
        "plt.legend(loc='upper right')\n",
        "plt.title('Pérdida de entrenamiento y pruebas')\n",
        "plt.show()"
      ],
      "execution_count": null,
      "outputs": [
        {
          "output_type": "display_data",
          "data": {
            "image/png": "[encoded data removed]",
            "text/plain": [
              "<Figure size 576x576 with 2 Axes>"
            ]
          },
          "metadata": {
            "needs_background": "light"
          }
        }
      ]
    },
    {
      "cell_type": "markdown",
      "source": [
        "### ***Paso 3.16 (Guardar modelo)***"
      ],
      "metadata": {
        "id": "BAzYmzzoMgtr"
      }
    },
    {
      "cell_type": "code",
      "source": [
        "from keras.models import load_model\n",
        "modelo.save('model_Rosas.h5')"
      ],
      "metadata": {
        "id": "wxMNM07oMlYF"
      },
      "execution_count": null,
      "outputs": []
    },
    {
      "cell_type": "markdown",
      "source": [
        "### ***Paso 3.17 y Simulaciones***"
      ],
      "metadata": {
        "id": "HBDhnd1lL2nr"
      }
    },
    {
      "cell_type": "code",
      "metadata": {
        "id": "r0Hng_7nGMXT"
      },
      "source": [
        "#Categorizar una imagen de internet\n",
        "from PIL import Image\n",
        "import requests\n",
        "from io import BytesIO\n",
        "import cv2\n",
        "\n",
        "def categorizar(url):\n",
        "  respuesta = requests.get(url)\n",
        "  img = Image.open(BytesIO(respuesta.content))\n",
        "  img = np.array(img).astype(float)/255\n",
        "\n",
        "  img = cv2.resize(img, (224,224))\n",
        "  prediccion = modelo.predict(img.reshape(-1, 224, 224, 3))\n",
        "  return np.argmax(prediccion[0], axis=-1)"
      ],
      "execution_count": null,
      "outputs": []
    },
    {
      "cell_type": "code",
      "metadata": {
        "colab": {
          "base_uri": "https://localhost:8080/"
        },
        "id": "ZCKEHF08Hh-D",
        "outputId": "0930348f-4261-4343-f455-d2ad7dace5b5"
      },
      "source": [
        "#Simulacion 1\n",
        "#0 = aceptable, 1 = marchita_dia_1-4, 2 = marchita_hace_mucho\n",
        "\n",
        "url = 'https://i.ibb.co/b1tZjtN/Imagen-Prueba-1.jpg'\n",
        "prediccion = categorizar (url)\n",
        "print(prediccion)\n",
        "\n",
        "if prediccion == 0:\n",
        "  print(\"aceptable\")\n",
        "elif prediccion == 1:\n",
        "  print(\"marchita entre 1 a 4 dias\")\n",
        "else:\n",
        "  print(\"marchita hace mucho\")\n",
        "\n"
      ],
      "execution_count": null,
      "outputs": [
        {
          "output_type": "stream",
          "name": "stdout",
          "text": [
            "0\n",
            "aceptable\n"
          ]
        }
      ]
    },
    {
      "cell_type": "code",
      "source": [
        "#Simulacion 2\n",
        "#0 = aceptable, 1 = marchita_dia_1-4, 2 = marchita_hace_mucho\n",
        "\n",
        "url = 'https://i.ibb.co/YXMjBVB/Imagen-Prueba-2.jpg'\n",
        "prediccion = categorizar (url)\n",
        "print(prediccion)\n",
        "\n",
        "if prediccion == 0:\n",
        "  print(\"aceptable\")\n",
        "elif prediccion == 1:\n",
        "  print(\"marchita entre 1 a 4 dias\")\n",
        "else:\n",
        "  print(\"marchita hace mucho\")"
      ],
      "metadata": {
        "colab": {
          "base_uri": "https://localhost:8080/"
        },
        "id": "uGK2fSHlYO7s",
        "outputId": "59034d3c-aef5-4d33-df5e-3b28f357ef27"
      },
      "execution_count": null,
      "outputs": [
        {
          "output_type": "stream",
          "name": "stdout",
          "text": [
            "0\n",
            "aceptable\n"
          ]
        }
      ]
    },
    {
      "cell_type": "code",
      "source": [
        "#Simulacion 3\n",
        "#0 = aceptable, 1 = marchita_dia_1-4, 2 = marchita_hace_mucho\n",
        "\n",
        "url = 'https://i.ibb.co/tLQCJyQ/Imagen-Prueba-3.jpg'\n",
        "prediccion = categorizar (url)\n",
        "print(prediccion)\n",
        "\n",
        "if prediccion == 0:\n",
        "  print(\"aceptable\")\n",
        "elif prediccion == 1:\n",
        "  print(\"marchita entre 1 a 4 dias\")\n",
        "else:\n",
        "  print(\"marchita hace mucho\")"
      ],
      "metadata": {
        "colab": {
          "base_uri": "https://localhost:8080/"
        },
        "id": "dYaIAA7-YiMt",
        "outputId": "5a35897d-b7df-45e2-8ac7-99c76699da86"
      },
      "execution_count": null,
      "outputs": [
        {
          "output_type": "stream",
          "name": "stdout",
          "text": [
            "1\n",
            "marchita entre 1 a 4 dias\n"
          ]
        }
      ]
    },
    {
      "cell_type": "code",
      "source": [
        "#Simulacion 4\n",
        "#0 = aceptable, 1 = marchita_dia_1-4, 2 = marchita_hace_mucho\n",
        "\n",
        "url = 'https://i.ibb.co/kXz7gYW/Imagen-Prueba-4.jpg'\n",
        "prediccion = categorizar (url)\n",
        "print(prediccion)\n",
        "\n",
        "if prediccion == 0:\n",
        "  print(\"aceptable\")\n",
        "elif prediccion == 1:\n",
        "  print(\"marchita entre 1 a 4 dias\")\n",
        "else:\n",
        "  print(\"marchita hace mucho\")"
      ],
      "metadata": {
        "colab": {
          "base_uri": "https://localhost:8080/"
        },
        "id": "oqj1uA-vYv2s",
        "outputId": "28d1bfa6-4110-40f7-b073-0c966fd94ba5"
      },
      "execution_count": null,
      "outputs": [
        {
          "output_type": "stream",
          "name": "stdout",
          "text": [
            "1\n",
            "marchita entre 1 a 4 dias\n"
          ]
        }
      ]
    },
    {
      "cell_type": "code",
      "source": [
        "#Simulacion 5\n",
        "#0 = aceptable, 1 = marchita_dia_1-4, 2 = marchita_hace_mucho\n",
        "\n",
        "url = 'https://i.ibb.co/njyJd9J/Imagen-Prueba-5.jpg'\n",
        "prediccion = categorizar (url)\n",
        "print(prediccion)\n",
        "\n",
        "if prediccion == 0:\n",
        "  print(\"aceptable\")\n",
        "elif prediccion == 1:\n",
        "  print(\"marchita entre 1 a 4 dias\")\n",
        "else:\n",
        "  print(\"marchita hace mucho\")"
      ],
      "metadata": {
        "colab": {
          "base_uri": "https://localhost:8080/"
        },
        "id": "xa_mN5DLY9dc",
        "outputId": "5ebe3208-0e46-4f65-80e0-2e597e23a1db"
      },
      "execution_count": null,
      "outputs": [
        {
          "output_type": "stream",
          "name": "stdout",
          "text": [
            "1\n",
            "marchita entre 1 a 4 dias\n"
          ]
        }
      ]
    },
    {
      "cell_type": "code",
      "source": [
        "#Simulacion 6\n",
        "#0 = aceptable, 1 = marchita_dia_1-4, 2 = marchita_hace_mucho\n",
        "\n",
        "url = 'https://i.ibb.co/jJqGhtN/Imagen-Prueba-6.jpg'\n",
        "prediccion = categorizar (url)\n",
        "print(prediccion)\n",
        "\n",
        "if prediccion == 0:\n",
        "  print(\"aceptable\")\n",
        "elif prediccion == 1:\n",
        "  print(\"marchita entre 1 a 4 dias\")\n",
        "else:\n",
        "  print(\"marchita hace mucho\")"
      ],
      "metadata": {
        "colab": {
          "base_uri": "https://localhost:8080/"
        },
        "id": "AUyIuvQBabmY",
        "outputId": "b9acdd12-f9fd-49b0-ff0b-c22cadc71236"
      },
      "execution_count": null,
      "outputs": [
        {
          "output_type": "stream",
          "name": "stdout",
          "text": [
            "2\n",
            "marchita hace mucho\n"
          ]
        }
      ]
    },
    {
      "cell_type": "markdown",
      "source": [
        "### ***Cargar y Guardar el modelo***"
      ],
      "metadata": {
        "id": "KukaJpUBM6Pj"
      }
    },
    {
      "cell_type": "code",
      "source": [
        "MODEL_PATH = 'model_Rosas__16_epo_60_2.h5'\n",
        "model = tf.keras.models.load_model((MODEL_PATH),custom_objects={'KerasLayer':hub.KerasLayer})"
      ],
      "metadata": {
        "id": "rJdDSWVZUwte"
      },
      "execution_count": null,
      "outputs": []
    },
    {
      "cell_type": "code",
      "metadata": {
        "id": "TD6PPPWPeGEb"
      },
      "source": [
        "#Crear la carpeta para exportarla a TF Serving\n",
        "!mkdir -p carpeta_salida/modelo_rosas/16_60_2"
      ],
      "execution_count": null,
      "outputs": []
    },
    {
      "cell_type": "code",
      "metadata": {
        "id": "MbBmOwVbeKzs"
      },
      "source": [
        "#Guardar el modelo en formato SavedModel\n",
        "modelo.save('carpeta_salida/modelo_rosas/16_60_2')"
      ],
      "execution_count": null,
      "outputs": []
    },
    {
      "cell_type": "code",
      "metadata": {
        "id": "b-CGKz9neN40"
      },
      "source": [
        "#Hacerlo un zip para bajarlo y usarlo en otro lado\n",
        "!zip -r modelo_rosas_v16_60_2.zip /content/carpeta_salida/modelo_rosas/"
      ],
      "execution_count": null,
      "outputs": []
    },
    {
      "cell_type": "code",
      "source": [
        "import zipfile\n",
        "import os\n",
        "import shutil\n",
        "with zipfile.ZipFile(\"modelo_rosas_3.zip\",\"r\") as f:\n",
        "  f.extractall('.')\n"
      ],
      "metadata": {
        "id": "kSRa1ZzCrsje"
      },
      "execution_count": null,
      "outputs": []
    },
    {
      "cell_type": "code",
      "source": [
        "from keras.models import load_model\n",
        "modelo = load_model(\"model_Rosas_16_3.h5\")"
      ],
      "metadata": {
        "id": "TW3IQjnKsgu_"
      },
      "execution_count": null,
      "outputs": []
    },
    {
      "cell_type": "code",
      "source": [
        "from keras.models import load_model\n",
        "modelo.save('model_Rosas__16_epo_60_2.h5')"
      ],
      "metadata": {
        "id": "WaU-5IoXuTVW"
      },
      "execution_count": null,
      "outputs": []
    }
  ]
}